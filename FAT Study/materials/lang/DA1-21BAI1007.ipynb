{
 "cells": [
  {
   "cell_type": "markdown",
   "metadata": {},
   "source": [
    "# DA1 - Spam Classification model using pretrained BERT\n",
    "Goutham Krishnan 21BAI1007\n",
    "\n",
    "Slot: L23 + L24"
   ]
  },
  {
   "cell_type": "code",
   "execution_count": 1,
   "metadata": {},
   "outputs": [],
   "source": [
    "# Importing libraries\n",
    "import numpy as np\n",
    "import torch\n",
    "import pandas as pd\n",
    "import torch.nn as nn\n",
    "from torch.utils.data import DataLoader, Dataset\n",
    "from transformers import BertTokenizer, BertModel, BertForSequenceClassification, get_linear_schedule_with_warmup, AdamW\n",
    "from sklearn.model_selection import train_test_split\n",
    "from sklearn.metrics import accuracy_score, classification_report\n",
    "\n",
    "device = device = torch.device(\"cuda\" if torch.cuda.is_available() else \"cpu\")"
   ]
  },
  {
   "cell_type": "markdown",
   "metadata": {},
   "source": [
    "### Data - spam.csv"
   ]
  },
  {
   "cell_type": "code",
   "execution_count": 2,
   "metadata": {},
   "outputs": [
    {
     "data": {
      "text/html": [
       "<div>\n",
       "<style scoped>\n",
       "    .dataframe tbody tr th:only-of-type {\n",
       "        vertical-align: middle;\n",
       "    }\n",
       "\n",
       "    .dataframe tbody tr th {\n",
       "        vertical-align: top;\n",
       "    }\n",
       "\n",
       "    .dataframe thead th {\n",
       "        text-align: right;\n",
       "    }\n",
       "</style>\n",
       "<table border=\"1\" class=\"dataframe\">\n",
       "  <thead>\n",
       "    <tr style=\"text-align: right;\">\n",
       "      <th></th>\n",
       "      <th>Category</th>\n",
       "      <th>Message</th>\n",
       "    </tr>\n",
       "  </thead>\n",
       "  <tbody>\n",
       "    <tr>\n",
       "      <th>0</th>\n",
       "      <td>ham</td>\n",
       "      <td>Go until jurong point, crazy.. Available only ...</td>\n",
       "    </tr>\n",
       "    <tr>\n",
       "      <th>1</th>\n",
       "      <td>ham</td>\n",
       "      <td>Ok lar... Joking wif u oni...</td>\n",
       "    </tr>\n",
       "    <tr>\n",
       "      <th>2</th>\n",
       "      <td>spam</td>\n",
       "      <td>Free entry in 2 a wkly comp to win FA Cup fina...</td>\n",
       "    </tr>\n",
       "    <tr>\n",
       "      <th>3</th>\n",
       "      <td>ham</td>\n",
       "      <td>U dun say so early hor... U c already then say...</td>\n",
       "    </tr>\n",
       "    <tr>\n",
       "      <th>4</th>\n",
       "      <td>ham</td>\n",
       "      <td>Nah I don't think he goes to usf, he lives aro...</td>\n",
       "    </tr>\n",
       "  </tbody>\n",
       "</table>\n",
       "</div>"
      ],
      "text/plain": [
       "  Category                                            Message\n",
       "0      ham  Go until jurong point, crazy.. Available only ...\n",
       "1      ham                      Ok lar... Joking wif u oni...\n",
       "2     spam  Free entry in 2 a wkly comp to win FA Cup fina...\n",
       "3      ham  U dun say so early hor... U c already then say...\n",
       "4      ham  Nah I don't think he goes to usf, he lives aro..."
      ]
     },
     "execution_count": 2,
     "metadata": {},
     "output_type": "execute_result"
    }
   ],
   "source": [
    "df = pd.read_csv(\"spam.csv\")\n",
    "df.head()"
   ]
  },
  {
   "cell_type": "code",
   "execution_count": 3,
   "metadata": {},
   "outputs": [
    {
     "name": "stdout",
     "output_type": "stream",
     "text": [
      "Text: Go until jurong point, crazy.. Available only in bugis n great world la e buffet... Cine there got amore wat... \t| Label: 0\n",
      "Text: Ok lar... Joking wif u oni... \t| Label: 0\n",
      "Text: Free entry in 2 a wkly comp to win FA Cup final tkts 21st May 2005. Text FA to 87121 to receive entry question(std txt rate)T&C's apply 08452810075over18's \t| Label: 1\n",
      "Text: U dun say so early hor... U c already then say... \t| Label: 0\n",
      "Text: Nah I don't think he goes to usf, he lives around here though \t| Label: 0\n",
      "Text: FreeMsg Hey there darling it's been 3 week's now and no word back! I'd like some fun you up for it still? Tb ok! XxX std chgs to send, £1.50 to rcv \t| Label: 1\n",
      "Text: Even my brother is not like to speak with me. They treat me like aids patent. \t| Label: 0\n",
      "Text: As per your request 'Melle Melle (Oru Minnaminunginte Nurungu Vettam)' has been set as your callertune for all Callers. Press *9 to copy your friends Callertune \t| Label: 0\n",
      "Text: WINNER!! As a valued network customer you have been selected to receivea £900 prize reward! To claim call 09061701461. Claim code KL341. Valid 12 hours only. \t| Label: 1\n",
      "Text: Had your mobile 11 months or more? U R entitled to Update to the latest colour mobiles with camera for Free! Call The Mobile Update Co FREE on 08002986030 \t| Label: 1\n"
     ]
    }
   ],
   "source": [
    "def load_data(path):\n",
    "    df = pd.read_csv(path)\n",
    "    texts = df[\"Message\"].tolist()\n",
    "    labels = [1 if category==\"spam\" else 0 for category in df[\"Category\"]]\n",
    "    return texts, labels\n",
    "\n",
    "data_path = \"spam.csv\"\n",
    "texts, labels = load_data(data_path)\n",
    "# Printing the list of texts and labels\n",
    "for i in range(10):\n",
    "    print(f\"Text: {texts[i]} \\t| Label: {labels[i]}\")"
   ]
  },
  {
   "cell_type": "code",
   "execution_count": 4,
   "metadata": {},
   "outputs": [
    {
     "name": "stdout",
     "output_type": "stream",
     "text": [
      "Length of training set:  4457\n",
      "Length of test set:  1115\n"
     ]
    }
   ],
   "source": [
    "## Preparing the dataset -> for input to the pytorch dataloader\n",
    "class SpamDataset(Dataset):\n",
    "    def __init__(self, texts, labels, tokenizer, max_length):\n",
    "        self.texts = texts\n",
    "        self.labels = labels\n",
    "        self.tokenizer = tokenizer\n",
    "        self.max_length = max_length\n",
    "    def __len__(self):\n",
    "        return len(self.texts)\n",
    "    def __getitem__(self, index):\n",
    "        texts = self.texts[index]\n",
    "        labels = self.labels[index]\n",
    "        encoding = self.tokenizer(texts, add_special_tokens=True, return_tensors='pt', max_length = self.max_length, padding='max_length', truncation=True)\n",
    "        return {'input_ids': encoding['input_ids'].flatten(), 'attention_mask': encoding['attention_mask'].flatten(), 'label': torch.tensor(labels)}\n",
    "\n",
    "train_texts, val_texts, train_labels, val_labels = train_test_split(texts, labels, test_size=0.2, random_state=42)\n",
    "print(\"Length of training set: \", len(train_texts))\n",
    "print(\"Length of test set: \", len(val_texts))"
   ]
  },
  {
   "cell_type": "markdown",
   "metadata": {},
   "source": [
    "### BERT Model for sequence classification"
   ]
  },
  {
   "cell_type": "code",
   "execution_count": 5,
   "metadata": {},
   "outputs": [
    {
     "name": "stderr",
     "output_type": "stream",
     "text": [
      "Some weights of BertForSequenceClassification were not initialized from the model checkpoint at bert-base-uncased and are newly initialized: ['classifier.bias', 'classifier.weight']\n",
      "You should probably TRAIN this model on a down-stream task to be able to use it for predictions and inference.\n"
     ]
    }
   ],
   "source": [
    "## Pretrained bert-base-uncased model from huggingface\n",
    "model = BertForSequenceClassification.from_pretrained(\n",
    "    \"bert-base-uncased\", \n",
    "    num_labels = 2,   \n",
    "    output_attentions = False,\n",
    "    output_hidden_states = False,\n",
    ").to(device)"
   ]
  },
  {
   "cell_type": "code",
   "execution_count": 6,
   "metadata": {},
   "outputs": [],
   "source": [
    "## BERT model parameters\n",
    "bert_tokenizer = BertTokenizer.from_pretrained('bert-base-uncased', do_lower_case=True)\n",
    "max_length = 128\n",
    "batch_size = 16\n",
    "num_epochs = 10\n",
    "learning_rate = 1e-3"
   ]
  },
  {
   "cell_type": "code",
   "execution_count": 7,
   "metadata": {},
   "outputs": [],
   "source": [
    "## Dataloader\n",
    "train_dataset = SpamDataset(train_texts, train_labels, bert_tokenizer, max_length)\n",
    "test_dataset = SpamDataset(val_texts, val_labels, bert_tokenizer, max_length)\n",
    "train_dataloader = DataLoader(train_dataset, batch_size=batch_size, shuffle=True)\n",
    "test_dataloader = DataLoader(test_dataset, batch_size=batch_size)"
   ]
  },
  {
   "cell_type": "markdown",
   "metadata": {},
   "source": [
    "### Training and Validation"
   ]
  },
  {
   "cell_type": "code",
   "execution_count": 9,
   "metadata": {},
   "outputs": [
    {
     "name": "stderr",
     "output_type": "stream",
     "text": [
      "/home/zeus/miniconda3/envs/cloudspace/lib/python3.10/site-packages/transformers/optimization.py:591: FutureWarning: This implementation of AdamW is deprecated and will be removed in a future version. Use the PyTorch implementation torch.optim.AdamW instead, or set `no_deprecation_warning=True` to disable this warning\n",
      "  warnings.warn(\n"
     ]
    },
    {
     "name": "stdout",
     "output_type": "stream",
     "text": [
      "Epoch 1/10\n"
     ]
    },
    {
     "name": "stdout",
     "output_type": "stream",
     "text": [
      "Validation Accuracy: 0.9955\n",
      "Epoch 2/10\n",
      "Validation Accuracy: 0.9928\n",
      "Epoch 3/10\n",
      "Validation Accuracy: 0.9928\n",
      "Epoch 4/10\n",
      "Validation Accuracy: 0.9928\n",
      "Epoch 5/10\n",
      "Validation Accuracy: 0.9928\n",
      "Epoch 6/10\n",
      "Validation Accuracy: 0.9928\n",
      "Epoch 7/10\n",
      "Validation Accuracy: 0.9928\n",
      "Epoch 8/10\n",
      "Validation Accuracy: 0.9928\n",
      "Epoch 9/10\n",
      "Validation Accuracy: 0.9928\n",
      "Epoch 10/10\n",
      "Validation Accuracy: 0.9928\n"
     ]
    }
   ],
   "source": [
    "## Training the model\n",
    "optimizer = AdamW(model.parameters(), lr = 2e-5, eps = 1e-8)\n",
    "total_steps = len(train_dataloader) * num_epochs\n",
    "scheduler = get_linear_schedule_with_warmup(optimizer, num_warmup_steps=0, num_training_steps=total_steps)\n",
    "\n",
    "def train(model, data_loader, optimizer, scheduler, device):\n",
    "    model.train()\n",
    "    for batch in data_loader:\n",
    "        optimizer.zero_grad()\n",
    "        input_ids = batch['input_ids'].to(device)\n",
    "        attention_mask = batch['attention_mask'].to(device)\n",
    "        labels = batch['label'].to(device)\n",
    "        outputs = model(input_ids, token_type_ids=None, attention_mask=attention_mask, labels=labels)\n",
    "        loss = outputs.loss\n",
    "        loss.backward()\n",
    "        optimizer.step()\n",
    "        scheduler.step()\n",
    "\n",
    "def evaluate(model, data_loader, device):\n",
    "    model.eval()\n",
    "    predictions = []\n",
    "    actual_labels = []\n",
    "    with torch.no_grad():\n",
    "        for batch in data_loader:\n",
    "            input_ids = batch['input_ids'].to(device)\n",
    "            attention_mask = batch['attention_mask'].to(device)\n",
    "            labels = batch['label'].to(device)\n",
    "            outputs = model(input_ids, token_type_ids=None, attention_mask=attention_mask, labels=labels)\n",
    "            _, preds = torch.max(outputs.logits, dim=1)\n",
    "            predictions.extend(preds.cpu().tolist())\n",
    "            actual_labels.extend(labels.cpu().tolist())\n",
    "    return accuracy_score(actual_labels, predictions)\n",
    "\n",
    "# Training and validation loop\n",
    "for epoch in range(num_epochs):\n",
    "    print(f\"Epoch {epoch+1}/{num_epochs}\")\n",
    "    train(model, train_dataloader, optimizer, scheduler, device)\n",
    "    accuracy = evaluate(model, test_dataloader, device)\n",
    "    print(f\"Validation Accuracy: {accuracy:.4f}\")\n",
    "\n",
    "# Save the model as a .pth file\n",
    "torch.save(model.state_dict(), \"BERT_spam_classifier.pth\")"
   ]
  },
  {
   "cell_type": "markdown",
   "metadata": {},
   "source": [
    "### Sample Prediction"
   ]
  },
  {
   "cell_type": "code",
   "execution_count": 15,
   "metadata": {},
   "outputs": [
    {
     "name": "stdout",
     "output_type": "stream",
     "text": [
      "Sample Text:  URGENT! We are trying to contact you. Last weekends draw shows that you have won a £900 prize GUARANTEED. Call 09061701939. Claim code S89. Valid 12hrs only\n",
      "Correct Sentiment: spam | Predicted sentiment: spam\n",
      "\n",
      "\n",
      "Sample Text:  Sorry, I'll call later\n",
      "Correct Sentiment: not spam | Predicted sentiment: not spam\n",
      "\n",
      "\n",
      "Sample Text:  Congratulations! Thanks to a good friend U have WON the £2,000 Xmas prize. 2 claim is easy, just call 08718726971 NOW! Only 10p per minute. BT-national-rate.\n",
      "Correct Sentiment: spam | Predicted sentiment: spam\n",
      "\n",
      "\n",
      "Sample Text:  Love you aathi..love u lot..\n",
      "Correct Sentiment: not spam | Predicted sentiment: not spam\n",
      "\n",
      "\n",
      "Sample Text:  8007 FREE for 1st week! No1 Nokia tone 4 ur mob every week just txt NOKIA to 8007 Get txting and tell ur mates www.getzed.co.uk POBox 36504 W4 5WQ norm 150p/tone 16+\n",
      "Correct Sentiment: spam | Predicted sentiment: spam\n",
      "\n",
      "\n",
      "Sample Text:  Oh k. . I will come tomorrow\n",
      "Correct Sentiment: not spam | Predicted sentiment: not spam\n",
      "\n",
      "\n",
      "Sample Text:  SO IS TH GOWER MATE WHICH IS WHERE I AM!?! HOW R U MAN? ALL IS GOOD IN WALES ILL B BACK MORROW. C U THIS WK? WHO WAS THE MSG 4?  RANDOM!\n",
      "Correct Sentiment: not spam | Predicted sentiment: not spam\n",
      "\n",
      "\n",
      "Sample Text:  HCL chennai requires FRESHERS for voice process.Excellent english needed.Salary upto  &lt;#&gt; .Call Ms.Suman  &lt;#&gt;  for Telephonic interview -via Indyarocks.com\n",
      "Correct Sentiment: not spam | Predicted sentiment: not spam\n",
      "\n",
      "\n",
      "Sample Text:  Hey cutie. How goes it? Here in WALES its kinda ok. There is like hills and shit but i still avent killed myself.\n",
      "Correct Sentiment: not spam | Predicted sentiment: not spam\n",
      "\n",
      "\n",
      "Sample Text:  K, wen ur free come to my home and also tel vikky i hav sent mail to him also.. Better come evening il be free today aftr 6pm..:-)\n",
      "Correct Sentiment: not spam | Predicted sentiment: not spam\n",
      "\n",
      "\n",
      "Sample Text:  Sos! Any amount i can get pls.\n",
      "Correct Sentiment: not spam | Predicted sentiment: not spam\n",
      "\n",
      "\n",
      "Sample Text:  Ok da, i already planned. I wil pick you.\n",
      "Correct Sentiment: not spam | Predicted sentiment: not spam\n",
      "\n",
      "\n",
      "Sample Text:  i dnt wnt to tlk wid u\n",
      "Correct Sentiment: not spam | Predicted sentiment: not spam\n",
      "\n",
      "\n",
      "Sample Text:  I'm hungry buy smth home...\n",
      "Correct Sentiment: not spam | Predicted sentiment: not spam\n",
      "\n",
      "\n",
      "Sample Text:  How much for an eighth?\n",
      "Correct Sentiment: not spam | Predicted sentiment: not spam\n",
      "\n",
      "\n",
      "Sample Text:  No calls..messages..missed calls\n",
      "Correct Sentiment: not spam | Predicted sentiment: not spam\n",
      "\n",
      "\n",
      "Sample Text:  #ERROR!\n",
      "Correct Sentiment: spam | Predicted sentiment: spam\n",
      "\n",
      "\n",
      "Sample Text:  I want some cock! My hubby's away, I need a real man 2 satisfy me. Txt WIFE to 89938 for no strings action. (Txt STOP 2 end, txt rec £1.50ea. OTBox 731 LA1 7WS. )\n",
      "Correct Sentiment: spam | Predicted sentiment: spam\n",
      "\n",
      "\n",
      "Sample Text:  Where do you need to go to get it?\n",
      "Correct Sentiment: not spam | Predicted sentiment: not spam\n",
      "\n",
      "\n",
      "Sample Text:  Oh, then your phone phoned me but it disconnected\n",
      "Correct Sentiment: not spam | Predicted sentiment: not spam\n",
      "\n",
      "\n",
      "Sample Text:  Sorry I missed your call let's talk when you have the time. I'm on 07090201529\n",
      "Correct Sentiment: spam | Predicted sentiment: spam\n",
      "\n",
      "\n",
      "Sample Text:  I'll be late...\n",
      "Correct Sentiment: not spam | Predicted sentiment: not spam\n",
      "\n",
      "\n",
      "Sample Text:  K, wen ur free come to my home and also tel vikky i hav sent mail to him also.. Better come evening il be free today aftr 6pm..:-)\n",
      "Correct Sentiment: not spam | Predicted sentiment: not spam\n",
      "\n",
      "\n",
      "Sample Text:  I guess that's why you re worried. You must know that there's a way the body repairs itself. And i'm quite sure you shouldn't worry. We'll take it slow. First the tests, they will guide when your ovulation is then just relax. Nothing you've said is a reason to worry but i.ll keep on followin you up.\n",
      "Correct Sentiment: not spam | Predicted sentiment: not spam\n",
      "\n",
      "\n",
      "Sample Text:  *deep sigh* ... I miss you :-( ... I am really surprised you haven't gone to the net cafe yet to get to me ... Don't you miss me?\n",
      "Correct Sentiment: not spam | Predicted sentiment: not spam\n",
      "\n",
      "\n",
      "Sample Text:  Mm have some kanji dont eat anything heavy ok\n",
      "Correct Sentiment: not spam | Predicted sentiment: not spam\n",
      "\n",
      "\n",
      "Sample Text:  naughty little thought: 'its better to flirt, flirt n flirt, rather than loving someone n gettin hurt, hurt n hurt...:-) Gud nyt\n",
      "Correct Sentiment: not spam | Predicted sentiment: not spam\n",
      "\n",
      "\n",
      "Sample Text:  Then why you came to hostel.\n",
      "Correct Sentiment: not spam | Predicted sentiment: not spam\n",
      "\n",
      "\n",
      "Sample Text:  URGENT! Your mobile was awarded a £1,500 Bonus Caller Prize on 27/6/03. Our final attempt 2 contact U! Call 08714714011\n",
      "Correct Sentiment: spam | Predicted sentiment: spam\n",
      "\n",
      "\n",
      "Sample Text:  It just seems like weird timing that the night that all you and g want is for me to come smoke is the same day as when a shitstorm is attributed to me always coming over and making everyone smoke\n",
      "Correct Sentiment: not spam | Predicted sentiment: not spam\n",
      "\n",
      "\n"
     ]
    }
   ],
   "source": [
    "# Sample Predictions\n",
    "def predict_spam(text, model, tokenizer, device, max_length=128):\n",
    "    model.eval()\n",
    "    encoding = tokenizer(text, return_tensors='pt', max_length=max_length, padding='max_length', truncation=True)\n",
    "    input_ids = encoding['input_ids'].to(device)\n",
    "    attention_mask = encoding['attention_mask'].to(device)\n",
    "\n",
    "    with torch.no_grad():\n",
    "        outputs = model(input_ids, token_type_ids=None, attention_mask=attention_mask)\n",
    "        _, preds = torch.max(outputs.logits, dim=1)\n",
    "    return \"spam\" if preds.item() == 1 else \"not spam\"\n",
    "\n",
    "for i in range(30):\n",
    "    # Generate a random number between 0 and len(val_texts) -> get a random test text\n",
    "    k = np.random.randint(0, len(val_texts))\n",
    "    test_text = val_texts[k]\n",
    "    sentiment = predict_spam(test_text, model, bert_tokenizer, device)\n",
    "    print(\"Sample Text: \", val_texts[k])\n",
    "    truth = \"spam\" if val_labels[k]==1 else \"not spam\"\n",
    "    print(f\"Correct Sentiment: {truth} | Predicted sentiment: {sentiment}\")\n",
    "    print(\"\\n\")"
   ]
  },
  {
   "cell_type": "markdown",
   "metadata": {},
   "source": [
    "### Model Metrics"
   ]
  },
  {
   "cell_type": "code",
   "execution_count": 8,
   "metadata": {},
   "outputs": [],
   "source": [
    "import matplotlib.pyplot as plt\n",
    "from sklearn.metrics import confusion_matrix, roc_curve, auc, precision_score, f1_score, classification_report\n",
    "import seaborn as sns\n",
    "\n",
    "model.load_state_dict(torch.load(\"BERT_spam_classifier.pth\", map_location=device)) # Loading the model from the .pth file\n",
    "\n",
    "def evaluate_metrics(model, data_loader, device):\n",
    "    model.eval()\n",
    "    predictions = []\n",
    "    actual_labels = []\n",
    "    \n",
    "    with torch.no_grad():\n",
    "        for batch in data_loader:\n",
    "            input_ids = batch['input_ids'].to(device)\n",
    "            attention_mask = batch['attention_mask'].to(device)\n",
    "            labels = batch['label'].to(device)\n",
    "            outputs = model(input_ids, token_type_ids=None, attention_mask=attention_mask, labels=labels)\n",
    "            _, preds = torch.max(outputs.logits, dim=1)\n",
    "            predictions.extend(preds.cpu().tolist())\n",
    "            actual_labels.extend(labels.cpu().tolist())\n",
    "\n",
    "    # Confusion Matrix\n",
    "    cm = confusion_matrix(actual_labels, predictions)\n",
    "    print(\"Confusion Matrix:\")\n",
    "    print(cm)\n",
    "\n",
    "    plt.figure(figsize=(6, 4))\n",
    "    sns.heatmap(cm, annot=True, fmt=\"d\", cmap=\"Blues\", xticklabels=[\"Not Spam\", \"Spam\"], yticklabels=[\"Not Spam\", \"Spam\"])\n",
    "    plt.ylabel('Actual')\n",
    "    plt.xlabel('Predicted')\n",
    "    plt.title(\"Confusion Matrix\")\n",
    "    plt.show()\n",
    "    \n",
    "    # ROC Curve and AUC Score\n",
    "    fpr, tpr, _ = roc_curve(actual_labels, predictions)\n",
    "    roc_auc = auc(fpr, tpr)\n",
    "    \n",
    "    plt.figure(figsize=(6, 4))\n",
    "    plt.plot(fpr, tpr, color='darkorange', lw=2, label=f'ROC curve (area = {roc_auc:.2f})')\n",
    "    plt.plot([0, 1], [0, 1], color='navy', lw=2, linestyle='--')\n",
    "    plt.xlim([0.0, 1.0])\n",
    "    plt.ylim([0.0, 1.05])\n",
    "    plt.xlabel('False Positive Rate')\n",
    "    plt.ylabel('True Positive Rate')\n",
    "    plt.title('Receiver Operating Characteristic (ROC) Curve')\n",
    "    plt.legend(loc=\"lower right\")\n",
    "    plt.show()\n",
    "    \n",
    "    return actual_labels, predictions"
   ]
  },
  {
   "cell_type": "code",
   "execution_count": 9,
   "metadata": {},
   "outputs": [
    {
     "name": "stdout",
     "output_type": "stream",
     "text": [
      "Confusion Matrix:\n",
      "[[960   6]\n",
      " [  2 147]]\n"
     ]
    },
    {
     "data": {
      "image/png": "[encoded data removed]",
      "text/plain": [
       "<Figure size 600x400 with 2 Axes>"
      ]
     },
     "metadata": {},
     "output_type": "display_data"
    },
    {
     "data": {
      "image/png": "[encoded data removed]",
      "text/plain": [
       "<Figure size 600x400 with 1 Axes>"
      ]
     },
     "metadata": {},
     "output_type": "display_data"
    },
    {
     "name": "stdout",
     "output_type": "stream",
     "text": [
      "Precision: 0.9608\n",
      "F1 Score: 0.9735\n",
      "Classification Report:\n",
      "              precision    recall  f1-score   support\n",
      "\n",
      "    Not Spam       1.00      0.99      1.00       966\n",
      "        Spam       0.96      0.99      0.97       149\n",
      "\n",
      "    accuracy                           0.99      1115\n",
      "   macro avg       0.98      0.99      0.98      1115\n",
      "weighted avg       0.99      0.99      0.99      1115\n",
      "\n"
     ]
    }
   ],
   "source": [
    "def print_classification_metrics(actual_labels, predictions):\n",
    "    precision = precision_score(actual_labels, predictions)\n",
    "    f1 = f1_score(actual_labels, predictions)\n",
    "    \n",
    "    print(f'Precision: {precision:.4f}')\n",
    "    print(f'F1 Score: {f1:.4f}')\n",
    "    \n",
    "    # Classification report\n",
    "    print(\"Classification Report:\")\n",
    "    print(classification_report(actual_labels, predictions, target_names=[\"Not Spam\", \"Spam\"]))\n",
    "\n",
    "# After training, to evaluate the model, call these functions:\n",
    "actual_labels, predictions = evaluate_metrics(model, test_dataloader, device)\n",
    "print_classification_metrics(actual_labels, predictions)"
   ]
  }
 ],
 "metadata": {
  "language_info": {
   "name": "python"
  }
 },
 "nbformat": 4,
 "nbformat_minor": 2
}
