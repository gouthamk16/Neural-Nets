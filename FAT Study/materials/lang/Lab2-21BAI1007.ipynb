{
 "cells": [
  {
   "cell_type": "markdown",
   "id": "5ea82924-6731-4a66-b164-e557656b3e91",
   "metadata": {},
   "source": [
    "### Tokenization using spacy"
   ]
  },
  {
   "cell_type": "code",
   "execution_count": 3,
   "id": "4752fb53-31a0-435c-b2c5-63b06ed06a8c",
   "metadata": {},
   "outputs": [],
   "source": [
    "import spacy\n",
    "import nltk"
   ]
  },
  {
   "cell_type": "code",
   "execution_count": 8,
   "id": "85b9d84a-23a9-48dd-bcd2-5e19d24e31e8",
   "metadata": {},
   "outputs": [],
   "source": [
    "# load the English language library\n",
    "nlp = spacy.load(\"en_core_web_md\")"
   ]
  },
  {
   "cell_type": "code",
   "execution_count": 9,
   "id": "154cb413-71b6-4bb9-92ae-58cd90aa8440",
   "metadata": {},
   "outputs": [
    {
     "name": "stdout",
     "output_type": "stream",
     "text": [
      "Microsoft is shit\n"
     ]
    }
   ],
   "source": [
    "# Define a string\n",
    "text = (\"Microsoft is shit\")\n",
    "print(text)"
   ]
  },
  {
   "cell_type": "code",
   "execution_count": 11,
   "id": "0e34ea05-3edc-4d46-8c8f-0e84f7b85dd6",
   "metadata": {},
   "outputs": [
    {
     "name": "stdout",
     "output_type": "stream",
     "text": [
      "Microsoft\n",
      "is\n",
      "shit\n"
     ]
    }
   ],
   "source": [
    "# Create an object and explore tokens\n",
    "doc = nlp(text)\n",
    "for token in doc:\n",
    "    print(token.text)"
   ]
  },
  {
   "cell_type": "code",
   "execution_count": 12,
   "id": "20544062-7e66-4b4c-bcf1-a2a193ee0e81",
   "metadata": {},
   "outputs": [
    {
     "data": {
      "text/plain": [
       "3"
      ]
     },
     "execution_count": 12,
     "metadata": {},
     "output_type": "execute_result"
    }
   ],
   "source": [
    "# Counting tokens\n",
    "len(doc)"
   ]
  },
  {
   "cell_type": "code",
   "execution_count": 13,
   "id": "cecfbfff-029b-4945-9654-08c454ad33a0",
   "metadata": {},
   "outputs": [
    {
     "data": {
      "text/plain": [
       "766"
      ]
     },
     "execution_count": 13,
     "metadata": {},
     "output_type": "execute_result"
    }
   ],
   "source": [
    "# Counting vocab \n",
    "len(doc.vocab)"
   ]
  },
  {
   "cell_type": "markdown",
   "id": "ff660693-2f94-44e5-86aa-e87dc02a2d7c",
   "metadata": {},
   "source": [
    "### Indexing and slicing in tokens"
   ]
  },
  {
   "cell_type": "code",
   "execution_count": 16,
   "id": "dada6199-9159-46cc-8347-740bdd003720",
   "metadata": {},
   "outputs": [
    {
     "name": "stdout",
     "output_type": "stream",
     "text": [
      "Ferrari\n",
      "is\n",
      "the\n",
      "best\n",
      "f1\n",
      "team\n",
      "in\n",
      "the\n",
      "world\n",
      "!\n"
     ]
    }
   ],
   "source": [
    "sentence = nlp(\"Ferrari is the best f1 team in the world!\")\n",
    "for token in sentence:\n",
    "    print(token.text)"
   ]
  },
  {
   "cell_type": "code",
   "execution_count": 17,
   "id": "a5dc859e-f3e4-4045-a615-3b31804bbc63",
   "metadata": {},
   "outputs": [
    {
     "data": {
      "text/plain": [
       "Ferrari is the best f1"
      ]
     },
     "execution_count": 17,
     "metadata": {},
     "output_type": "execute_result"
    }
   ],
   "source": [
    "sentence[0:5]"
   ]
  },
  {
   "cell_type": "code",
   "execution_count": 18,
   "id": "acf84f39-257b-4015-be3a-e6d3d6549617",
   "metadata": {},
   "outputs": [
    {
     "data": {
      "text/plain": [
       "world"
      ]
     },
     "execution_count": 18,
     "metadata": {},
     "output_type": "execute_result"
    }
   ],
   "source": [
    "sentence[-2]"
   ]
  },
  {
   "cell_type": "markdown",
   "id": "8b4085b1-1515-48ce-8055-38a8c95710ea",
   "metadata": {},
   "source": [
    "### Named Entities"
   ]
  },
  {
   "cell_type": "code",
   "execution_count": 19,
   "id": "7ea903d8-5c2c-4d24-a129-003f9d987d23",
   "metadata": {},
   "outputs": [],
   "source": [
    "sentence2 = nlp(\"Apple is developing a car for around $300k\")"
   ]
  },
  {
   "cell_type": "code",
   "execution_count": 21,
   "id": "cb96fd53-a6e5-4631-96d3-eb375581ce5e",
   "metadata": {},
   "outputs": [
    {
     "name": "stdout",
     "output_type": "stream",
     "text": [
      "Apple\n",
      "around $\n",
      "300k\n"
     ]
    }
   ],
   "source": [
    "# Recognizing the named entities in the sentence (done by spacy)\n",
    "for ent in sentence2.ents:\n",
    "    print(ent)"
   ]
  },
  {
   "cell_type": "code",
   "execution_count": 22,
   "id": "8dd6bdd9-6c2f-477e-b392-3857261d6d03",
   "metadata": {},
   "outputs": [
    {
     "name": "stdout",
     "output_type": "stream",
     "text": [
      "Apple\n",
      "ORG\n",
      "Companies, agencies, institutions, etc.\n",
      "\n",
      "\n",
      "around $\n",
      "MONEY\n",
      "Monetary values, including unit\n",
      "\n",
      "\n",
      "300k\n",
      "ORG\n",
      "Companies, agencies, institutions, etc.\n",
      "\n",
      "\n"
     ]
    }
   ],
   "source": [
    "## Analyzing the entities\n",
    "for ent in sentence2.ents:\n",
    "    print(ent)\n",
    "    print(ent.label_)\n",
    "    print(str(spacy.explain(ent.label_)))\n",
    "    print('\\n')"
   ]
  },
  {
   "cell_type": "markdown",
   "id": "48dd3712-8ed5-4a08-b6ba-0bbae6be7521",
   "metadata": {},
   "source": [
    "### Noun Chunks"
   ]
  },
  {
   "cell_type": "code",
   "execution_count": 23,
   "id": "fd4bcfd0-1e0c-459e-877f-fc72ca505632",
   "metadata": {},
   "outputs": [
    {
     "name": "stdout",
     "output_type": "stream",
     "text": [
      "It\n",
      "autonomous cars\n"
     ]
    }
   ],
   "source": [
    "# Noun chunks can be described as noun + words that describe a particular noun\n",
    "sentence3 = nlp(\"It is difficult to insure autonomous cars\")\n",
    "for chunk in sentence3.noun_chunks:\n",
    "    print(chunk.text)"
   ]
  },
  {
   "cell_type": "markdown",
   "id": "829fa1b1-3f9c-46ff-b83c-6015118087f1",
   "metadata": {},
   "source": [
    "### Visualizing tokens"
   ]
  },
  {
   "cell_type": "code",
   "execution_count": 24,
   "id": "4257ac7b-0ccb-4053-92dd-9348b3fbba58",
   "metadata": {},
   "outputs": [],
   "source": [
    "from spacy import displacy"
   ]
  },
  {
   "cell_type": "code",
   "execution_count": 29,
   "id": "dfefe1f8-0092-40a2-8e65-d5704f3aa412",
   "metadata": {},
   "outputs": [
    {
     "data": {
      "text/html": [
       "<span class=\"tex2jax_ignore\"><svg xmlns=\"http://www.w3.org/2000/svg\" xmlns:xlink=\"http://www.w3.org/1999/xlink\" xml:lang=\"en\" id=\"a0c33dfa4dad469f84334f2b01deccb0-0\" class=\"displacy\" width=\"950\" height=\"287.0\" direction=\"ltr\" style=\"max-width: none; height: 287.0px; color: #000000; background: #ffffff; font-family: Arial; direction: ltr\">\n",
       "<text class=\"displacy-token\" fill=\"currentColor\" text-anchor=\"middle\" y=\"197.0\">\n",
       "    <tspan class=\"displacy-word\" fill=\"currentColor\" x=\"50\">Apple</tspan>\n",
       "    <tspan class=\"displacy-tag\" dy=\"2em\" fill=\"currentColor\" x=\"50\">PROPN</tspan>\n",
       "</text>\n",
       "\n",
       "<text class=\"displacy-token\" fill=\"currentColor\" text-anchor=\"middle\" y=\"197.0\">\n",
       "    <tspan class=\"displacy-word\" fill=\"currentColor\" x=\"150\">is</tspan>\n",
       "    <tspan class=\"displacy-tag\" dy=\"2em\" fill=\"currentColor\" x=\"150\">AUX</tspan>\n",
       "</text>\n",
       "\n",
       "<text class=\"displacy-token\" fill=\"currentColor\" text-anchor=\"middle\" y=\"197.0\">\n",
       "    <tspan class=\"displacy-word\" fill=\"currentColor\" x=\"250\">developing</tspan>\n",
       "    <tspan class=\"displacy-tag\" dy=\"2em\" fill=\"currentColor\" x=\"250\">VERB</tspan>\n",
       "</text>\n",
       "\n",
       "<text class=\"displacy-token\" fill=\"currentColor\" text-anchor=\"middle\" y=\"197.0\">\n",
       "    <tspan class=\"displacy-word\" fill=\"currentColor\" x=\"350\">a</tspan>\n",
       "    <tspan class=\"displacy-tag\" dy=\"2em\" fill=\"currentColor\" x=\"350\">DET</tspan>\n",
       "</text>\n",
       "\n",
       "<text class=\"displacy-token\" fill=\"currentColor\" text-anchor=\"middle\" y=\"197.0\">\n",
       "    <tspan class=\"displacy-word\" fill=\"currentColor\" x=\"450\">car</tspan>\n",
       "    <tspan class=\"displacy-tag\" dy=\"2em\" fill=\"currentColor\" x=\"450\">NOUN</tspan>\n",
       "</text>\n",
       "\n",
       "<text class=\"displacy-token\" fill=\"currentColor\" text-anchor=\"middle\" y=\"197.0\">\n",
       "    <tspan class=\"displacy-word\" fill=\"currentColor\" x=\"550\">for</tspan>\n",
       "    <tspan class=\"displacy-tag\" dy=\"2em\" fill=\"currentColor\" x=\"550\">ADP</tspan>\n",
       "</text>\n",
       "\n",
       "<text class=\"displacy-token\" fill=\"currentColor\" text-anchor=\"middle\" y=\"197.0\">\n",
       "    <tspan class=\"displacy-word\" fill=\"currentColor\" x=\"650\">around</tspan>\n",
       "    <tspan class=\"displacy-tag\" dy=\"2em\" fill=\"currentColor\" x=\"650\">ADP</tspan>\n",
       "</text>\n",
       "\n",
       "<text class=\"displacy-token\" fill=\"currentColor\" text-anchor=\"middle\" y=\"197.0\">\n",
       "    <tspan class=\"displacy-word\" fill=\"currentColor\" x=\"750\">$</tspan>\n",
       "    <tspan class=\"displacy-tag\" dy=\"2em\" fill=\"currentColor\" x=\"750\">SYM</tspan>\n",
       "</text>\n",
       "\n",
       "<text class=\"displacy-token\" fill=\"currentColor\" text-anchor=\"middle\" y=\"197.0\">\n",
       "    <tspan class=\"displacy-word\" fill=\"currentColor\" x=\"850\">300k</tspan>\n",
       "    <tspan class=\"displacy-tag\" dy=\"2em\" fill=\"currentColor\" x=\"850\">NUM</tspan>\n",
       "</text>\n",
       "\n",
       "<g class=\"displacy-arrow\">\n",
       "    <path class=\"displacy-arc\" id=\"arrow-a0c33dfa4dad469f84334f2b01deccb0-0-0\" stroke-width=\"2px\" d=\"M70,152.0 C70,52.0 245.0,52.0 245.0,152.0\" fill=\"none\" stroke=\"currentColor\"/>\n",
       "    <text dy=\"1.25em\" style=\"font-size: 0.8em; letter-spacing: 1px\">\n",
       "        <textPath xlink:href=\"#arrow-a0c33dfa4dad469f84334f2b01deccb0-0-0\" class=\"displacy-label\" startOffset=\"50%\" side=\"left\" fill=\"currentColor\" text-anchor=\"middle\">nsubj</textPath>\n",
       "    </text>\n",
       "    <path class=\"displacy-arrowhead\" d=\"M70,154.0 L62,142.0 78,142.0\" fill=\"currentColor\"/>\n",
       "</g>\n",
       "\n",
       "<g class=\"displacy-arrow\">\n",
       "    <path class=\"displacy-arc\" id=\"arrow-a0c33dfa4dad469f84334f2b01deccb0-0-1\" stroke-width=\"2px\" d=\"M170,152.0 C170,102.0 240.0,102.0 240.0,152.0\" fill=\"none\" stroke=\"currentColor\"/>\n",
       "    <text dy=\"1.25em\" style=\"font-size: 0.8em; letter-spacing: 1px\">\n",
       "        <textPath xlink:href=\"#arrow-a0c33dfa4dad469f84334f2b01deccb0-0-1\" class=\"displacy-label\" startOffset=\"50%\" side=\"left\" fill=\"currentColor\" text-anchor=\"middle\">aux</textPath>\n",
       "    </text>\n",
       "    <path class=\"displacy-arrowhead\" d=\"M170,154.0 L162,142.0 178,142.0\" fill=\"currentColor\"/>\n",
       "</g>\n",
       "\n",
       "<g class=\"displacy-arrow\">\n",
       "    <path class=\"displacy-arc\" id=\"arrow-a0c33dfa4dad469f84334f2b01deccb0-0-2\" stroke-width=\"2px\" d=\"M370,152.0 C370,102.0 440.0,102.0 440.0,152.0\" fill=\"none\" stroke=\"currentColor\"/>\n",
       "    <text dy=\"1.25em\" style=\"font-size: 0.8em; letter-spacing: 1px\">\n",
       "        <textPath xlink:href=\"#arrow-a0c33dfa4dad469f84334f2b01deccb0-0-2\" class=\"displacy-label\" startOffset=\"50%\" side=\"left\" fill=\"currentColor\" text-anchor=\"middle\">det</textPath>\n",
       "    </text>\n",
       "    <path class=\"displacy-arrowhead\" d=\"M370,154.0 L362,142.0 378,142.0\" fill=\"currentColor\"/>\n",
       "</g>\n",
       "\n",
       "<g class=\"displacy-arrow\">\n",
       "    <path class=\"displacy-arc\" id=\"arrow-a0c33dfa4dad469f84334f2b01deccb0-0-3\" stroke-width=\"2px\" d=\"M270,152.0 C270,52.0 445.0,52.0 445.0,152.0\" fill=\"none\" stroke=\"currentColor\"/>\n",
       "    <text dy=\"1.25em\" style=\"font-size: 0.8em; letter-spacing: 1px\">\n",
       "        <textPath xlink:href=\"#arrow-a0c33dfa4dad469f84334f2b01deccb0-0-3\" class=\"displacy-label\" startOffset=\"50%\" side=\"left\" fill=\"currentColor\" text-anchor=\"middle\">dobj</textPath>\n",
       "    </text>\n",
       "    <path class=\"displacy-arrowhead\" d=\"M445.0,154.0 L453.0,142.0 437.0,142.0\" fill=\"currentColor\"/>\n",
       "</g>\n",
       "\n",
       "<g class=\"displacy-arrow\">\n",
       "    <path class=\"displacy-arc\" id=\"arrow-a0c33dfa4dad469f84334f2b01deccb0-0-4\" stroke-width=\"2px\" d=\"M270,152.0 C270,2.0 550.0,2.0 550.0,152.0\" fill=\"none\" stroke=\"currentColor\"/>\n",
       "    <text dy=\"1.25em\" style=\"font-size: 0.8em; letter-spacing: 1px\">\n",
       "        <textPath xlink:href=\"#arrow-a0c33dfa4dad469f84334f2b01deccb0-0-4\" class=\"displacy-label\" startOffset=\"50%\" side=\"left\" fill=\"currentColor\" text-anchor=\"middle\">prep</textPath>\n",
       "    </text>\n",
       "    <path class=\"displacy-arrowhead\" d=\"M550.0,154.0 L558.0,142.0 542.0,142.0\" fill=\"currentColor\"/>\n",
       "</g>\n",
       "\n",
       "<g class=\"displacy-arrow\">\n",
       "    <path class=\"displacy-arc\" id=\"arrow-a0c33dfa4dad469f84334f2b01deccb0-0-5\" stroke-width=\"2px\" d=\"M670,152.0 C670,52.0 845.0,52.0 845.0,152.0\" fill=\"none\" stroke=\"currentColor\"/>\n",
       "    <text dy=\"1.25em\" style=\"font-size: 0.8em; letter-spacing: 1px\">\n",
       "        <textPath xlink:href=\"#arrow-a0c33dfa4dad469f84334f2b01deccb0-0-5\" class=\"displacy-label\" startOffset=\"50%\" side=\"left\" fill=\"currentColor\" text-anchor=\"middle\">nmod</textPath>\n",
       "    </text>\n",
       "    <path class=\"displacy-arrowhead\" d=\"M670,154.0 L662,142.0 678,142.0\" fill=\"currentColor\"/>\n",
       "</g>\n",
       "\n",
       "<g class=\"displacy-arrow\">\n",
       "    <path class=\"displacy-arc\" id=\"arrow-a0c33dfa4dad469f84334f2b01deccb0-0-6\" stroke-width=\"2px\" d=\"M770,152.0 C770,102.0 840.0,102.0 840.0,152.0\" fill=\"none\" stroke=\"currentColor\"/>\n",
       "    <text dy=\"1.25em\" style=\"font-size: 0.8em; letter-spacing: 1px\">\n",
       "        <textPath xlink:href=\"#arrow-a0c33dfa4dad469f84334f2b01deccb0-0-6\" class=\"displacy-label\" startOffset=\"50%\" side=\"left\" fill=\"currentColor\" text-anchor=\"middle\">nmod</textPath>\n",
       "    </text>\n",
       "    <path class=\"displacy-arrowhead\" d=\"M770,154.0 L762,142.0 778,142.0\" fill=\"currentColor\"/>\n",
       "</g>\n",
       "\n",
       "<g class=\"displacy-arrow\">\n",
       "    <path class=\"displacy-arc\" id=\"arrow-a0c33dfa4dad469f84334f2b01deccb0-0-7\" stroke-width=\"2px\" d=\"M570,152.0 C570,2.0 850.0,2.0 850.0,152.0\" fill=\"none\" stroke=\"currentColor\"/>\n",
       "    <text dy=\"1.25em\" style=\"font-size: 0.8em; letter-spacing: 1px\">\n",
       "        <textPath xlink:href=\"#arrow-a0c33dfa4dad469f84334f2b01deccb0-0-7\" class=\"displacy-label\" startOffset=\"50%\" side=\"left\" fill=\"currentColor\" text-anchor=\"middle\">pobj</textPath>\n",
       "    </text>\n",
       "    <path class=\"displacy-arrowhead\" d=\"M850.0,154.0 L858.0,142.0 842.0,142.0\" fill=\"currentColor\"/>\n",
       "</g>\n",
       "</svg></span>"
      ],
      "text/plain": [
       "<IPython.core.display.HTML object>"
      ]
     },
     "metadata": {},
     "output_type": "display_data"
    }
   ],
   "source": [
    "doc = nlp(\"Apple is developing a car for around $300k\")\n",
    "displacy.render(docs = doc, style='dep', jupyter=True, options = {'distance': 100})"
   ]
  },
  {
   "cell_type": "code",
   "execution_count": 30,
   "id": "33e8f6d5-63de-4b52-8522-cfc307769c5d",
   "metadata": {},
   "outputs": [
    {
     "data": {
      "text/html": [
       "<span class=\"tex2jax_ignore\"><div class=\"entities\" style=\"line-height: 2.5; direction: ltr\">\n",
       "<mark class=\"entity\" style=\"background: #7aecec; padding: 0.45em 0.6em; margin: 0 0.25em; line-height: 1; border-radius: 0.35em;\">\n",
       "    Apple\n",
       "    <span style=\"font-size: 0.8em; font-weight: bold; line-height: 1; border-radius: 0.35em; vertical-align: middle; margin-left: 0.5rem\">ORG</span>\n",
       "</mark>\n",
       " is developing a car for \n",
       "<mark class=\"entity\" style=\"background: #e4e7d2; padding: 0.45em 0.6em; margin: 0 0.25em; line-height: 1; border-radius: 0.35em;\">\n",
       "    around $\n",
       "    <span style=\"font-size: 0.8em; font-weight: bold; line-height: 1; border-radius: 0.35em; vertical-align: middle; margin-left: 0.5rem\">MONEY</span>\n",
       "</mark>\n",
       "\n",
       "<mark class=\"entity\" style=\"background: #7aecec; padding: 0.45em 0.6em; margin: 0 0.25em; line-height: 1; border-radius: 0.35em;\">\n",
       "    300k\n",
       "    <span style=\"font-size: 0.8em; font-weight: bold; line-height: 1; border-radius: 0.35em; vertical-align: middle; margin-left: 0.5rem\">ORG</span>\n",
       "</mark>\n",
       "</div></span>"
      ],
      "text/plain": [
       "<IPython.core.display.HTML object>"
      ]
     },
     "metadata": {},
     "output_type": "display_data"
    }
   ],
   "source": [
    "displacy.render(docs=doc, style='ent', jupyter=True)"
   ]
  },
  {
   "cell_type": "markdown",
   "id": "4ab85bbc-9a11-4c93-a37d-95899712a78c",
   "metadata": {},
   "source": [
    "### Token Attributes"
   ]
  },
  {
   "cell_type": "code",
   "execution_count": 39,
   "id": "d5a38537-9640-446a-bf21-887c10bab200",
   "metadata": {},
   "outputs": [],
   "source": [
    "doc = nlp(\"Apple is developing a car for around $300k\")"
   ]
  },
  {
   "cell_type": "code",
   "execution_count": 40,
   "id": "2b6d08e8-4cc8-487c-bab8-dc6c043a5c34",
   "metadata": {},
   "outputs": [
    {
     "data": {
      "text/plain": [
       "Apple"
      ]
     },
     "execution_count": 40,
     "metadata": {},
     "output_type": "execute_result"
    }
   ],
   "source": [
    "token0 = doc[0]\n",
    "token0"
   ]
  },
  {
   "cell_type": "code",
   "execution_count": 43,
   "id": "2315b656-6c9e-4f05-ae2e-66b0e028b4f0",
   "metadata": {},
   "outputs": [
    {
     "data": {
      "text/plain": [
       "True"
      ]
     },
     "execution_count": 43,
     "metadata": {},
     "output_type": "execute_result"
    }
   ],
   "source": [
    "token0.is_alpha"
   ]
  },
  {
   "cell_type": "code",
   "execution_count": 44,
   "id": "608ea6f4-f241-48e2-9934-6380ac7b7a27",
   "metadata": {},
   "outputs": [
    {
     "data": {
      "text/plain": [
       "False"
      ]
     },
     "execution_count": 44,
     "metadata": {},
     "output_type": "execute_result"
    }
   ],
   "source": [
    "token0.like_num"
   ]
  },
  {
   "cell_type": "code",
   "execution_count": 45,
   "id": "69c7ea06-f5aa-4198-9b8e-e4d00373f911",
   "metadata": {},
   "outputs": [
    {
     "data": {
      "text/plain": [
       "$"
      ]
     },
     "execution_count": 45,
     "metadata": {},
     "output_type": "execute_result"
    }
   ],
   "source": [
    "token1 = doc[7]\n",
    "token1"
   ]
  },
  {
   "cell_type": "code",
   "execution_count": 46,
   "id": "28f92bd1-f60a-41c2-af90-159ed85e01f9",
   "metadata": {},
   "outputs": [
    {
     "data": {
      "text/plain": [
       "True"
      ]
     },
     "execution_count": 46,
     "metadata": {},
     "output_type": "execute_result"
    }
   ],
   "source": [
    "token1.is_currency"
   ]
  },
  {
   "cell_type": "code",
   "execution_count": 47,
   "id": "4a5f884d-a3b0-4dd6-a972-30b81f524a07",
   "metadata": {},
   "outputs": [
    {
     "name": "stdout",
     "output_type": "stream",
     "text": [
      "Apple ==> index:  0 is_alpha: True is_punct: False like_num: False is_currency: False\n",
      "is ==> index:  1 is_alpha: True is_punct: False like_num: False is_currency: False\n",
      "developing ==> index:  2 is_alpha: True is_punct: False like_num: False is_currency: False\n",
      "a ==> index:  3 is_alpha: True is_punct: False like_num: False is_currency: False\n",
      "car ==> index:  4 is_alpha: True is_punct: False like_num: False is_currency: False\n",
      "for ==> index:  5 is_alpha: True is_punct: False like_num: False is_currency: False\n",
      "around ==> index:  6 is_alpha: True is_punct: False like_num: False is_currency: False\n",
      "$ ==> index:  7 is_alpha: False is_punct: False like_num: False is_currency: True\n",
      "300k ==> index:  8 is_alpha: False is_punct: False like_num: False is_currency: False\n"
     ]
    }
   ],
   "source": [
    "for token in doc:\n",
    "    print(token, \"==>\", \"index: \", token.i, \"is_alpha:\", token.is_alpha, \n",
    "          \"is_punct:\", token.is_punct, \n",
    "          \"like_num:\", token.like_num,\n",
    "          \"is_currency:\", token.is_currency,\n",
    "         )"
   ]
  },
  {
   "cell_type": "markdown",
   "id": "2de6eadd-9ff7-4acc-a061-9c8557cce4f6",
   "metadata": {},
   "source": [
    "### Customizing Tokenizer"
   ]
  },
  {
   "cell_type": "code",
   "execution_count": 48,
   "id": "a200a68e-cd17-453a-aea0-44ff08db3cf2",
   "metadata": {},
   "outputs": [
    {
     "data": {
      "text/plain": [
       "['gimme', 'double', 'cheese', 'extra', 'large', 'healthy', 'pizza']"
      ]
     },
     "execution_count": 48,
     "metadata": {},
     "output_type": "execute_result"
    }
   ],
   "source": [
    "from spacy.symbols import ORTH\n",
    "\n",
    "nlp = spacy.blank(\"en\")\n",
    "doc = nlp(\"gimme double cheese extra large healthy pizza\")\n",
    "tokens = [token.text for token in doc]\n",
    "tokens"
   ]
  },
  {
   "cell_type": "code",
   "execution_count": 49,
   "id": "cf0c1593-3744-4f9f-9108-85dc12de4672",
   "metadata": {},
   "outputs": [
    {
     "data": {
      "text/plain": [
       "['gim', 'me', 'double', 'cheese', 'extra', 'large', 'healthy', 'pizza']"
      ]
     },
     "execution_count": 49,
     "metadata": {},
     "output_type": "execute_result"
    }
   ],
   "source": [
    "nlp.tokenizer.add_special_case(\"gimme\", [\n",
    "    {ORTH: \"gim\"},\n",
    "    {ORTH: \"me\"},\n",
    "])\n",
    "doc = nlp(\"gimme double cheese extra large healthy pizza\")\n",
    "tokens = [token.text for token in doc]\n",
    "tokens"
   ]
  },
  {
   "cell_type": "markdown",
   "id": "ebeb7b2a-ee83-4fdd-8a39-441692fca43d",
   "metadata": {},
   "source": [
    "### Exercise\n",
    "(1) Think stats is a free book to study statistics (https://greenteapress.com/thinkstats2/thinkstats2.pdf)\n",
    "\n",
    "This book has references to many websites from where you can download free datasets. You are an NLP engineer working for some company and you want to collect all dataset websites from this book. To keep exercise simple you are given a paragraph from this book and you want to grab all urls from this paragraph using spacy"
   ]
  },
  {
   "cell_type": "code",
   "execution_count": 62,
   "id": "6d125a68-7af0-4ce8-83e5-80781d5a656a",
   "metadata": {},
   "outputs": [],
   "source": [
    "text=\"\"\"\n",
    "Look for data to help you address the question. Governments are good\n",
    "sources because data from public research is often freely available. Good\n",
    "places to start include http://www.data.gov/, and http://www.science.\n",
    "gov/, and in the United Kingdom, http://data.gov.uk/.\n",
    "Two of my favorite data sets are the General Social Survey at http://www3.norc.org/gss+website/, \n",
    "and the European Social Survey at http://www.europeansocialsurvey.org/.\n",
    "\"\"\""
   ]
  },
  {
   "cell_type": "code",
   "execution_count": 63,
   "id": "99d4f2b7-1cc3-4402-8780-0bb319ff5a8d",
   "metadata": {},
   "outputs": [],
   "source": [
    "exercise_doc = nlp(text)"
   ]
  },
  {
   "cell_type": "code",
   "execution_count": 72,
   "id": "2f5e513b-cf8f-4ac5-936c-998e87732e4b",
   "metadata": {},
   "outputs": [
    {
     "name": "stdout",
     "output_type": "stream",
     "text": [
      "http://www.data.gov/\n",
      "http://www.science\n",
      "http://data.gov.uk/.\n",
      "http://www3.norc.org/gss+website/\n",
      "http://www.europeansocialsurvey.org/.\n"
     ]
    }
   ],
   "source": [
    "for token in exercise_doc:\n",
    "    if token.like_url:\n",
    "        print(token)"
   ]
  },
  {
   "cell_type": "markdown",
   "id": "99d231f3-49a2-484a-9e92-c944f8187fc7",
   "metadata": {},
   "source": [
    "(2) Extract all money transaction from below sentence along with currency. Output should be,\n",
    "\n",
    "two $\n",
    "\n",
    "500 €"
   ]
  },
  {
   "cell_type": "code",
   "execution_count": 74,
   "id": "3e5b840c-f670-4b71-ab1e-1501fba45bba",
   "metadata": {},
   "outputs": [
    {
     "name": "stdout",
     "output_type": "stream",
     "text": [
      "two $\n",
      "500 €\n"
     ]
    }
   ],
   "source": [
    "transactions = \"Tony gave two $ to Peter, Bruce gave 500 € to Steve\"\n",
    "doc_transaction = nlp(transactions)\n",
    "n = len(doc_transaction)\n",
    "\n",
    "for i in range(n):\n",
    "    if i<n-1 and doc_transaction[i+1].is_currency:\n",
    "        print(doc_transaction[i], doc_transaction[i+1])"
   ]
  },
  {
   "cell_type": "markdown",
   "id": "31f70e38-5431-4713-8476-b488ef39cdc9",
   "metadata": {},
   "source": [
    "### Stemming in NLTK"
   ]
  },
  {
   "cell_type": "code",
   "execution_count": 32,
   "id": "a226fa92-dc47-48b8-869d-015278b08a79",
   "metadata": {},
   "outputs": [],
   "source": [
    "from nltk.stem import PorterStemmer\n",
    "stemmer = PorterStemmer()"
   ]
  },
  {
   "cell_type": "code",
   "execution_count": 35,
   "id": "0c4ed0c1-073c-4aaa-af94-000a47a75f9f",
   "metadata": {},
   "outputs": [
    {
     "name": "stdout",
     "output_type": "stream",
     "text": [
      "Original word:  eating  |  Lemma:  eat\n",
      "Original word:  eats  |  Lemma:  eat\n",
      "Original word:  eat  |  Lemma:  eat\n",
      "Original word:  ate  |  Lemma:  ate\n",
      "Original word:  adjustable  |  Lemma:  adjust\n",
      "Original word:  rafting  |  Lemma:  raft\n",
      "Original word:  ability  |  Lemma:  abil\n",
      "Original word:  meeting  |  Lemma:  meet\n"
     ]
    }
   ],
   "source": [
    "words = [\"eating\", \"eats\", \"eat\", \"ate\", \"adjustable\", \"rafting\", \"ability\", \"meeting\"]\n",
    "\n",
    "for word in words:\n",
    "    print(\"Original word: \",word, \" | \", \"Lemma: \",stemmer.stem(word))"
   ]
  },
  {
   "cell_type": "markdown",
   "id": "e65b8caa-6e72-4c0d-aefb-a381fab9cbdd",
   "metadata": {},
   "source": [
    "### Lemmatization in Spacy"
   ]
  },
  {
   "cell_type": "code",
   "execution_count": 36,
   "id": "2863ab55-d361-40a5-aa73-392232c64d26",
   "metadata": {},
   "outputs": [
    {
     "name": "stdout",
     "output_type": "stream",
     "text": [
      "Original word:  Mando  |  Lemma:  Mando\n",
      "Original word:  talked  |  Lemma:  talk\n",
      "Original word:  for  |  Lemma:  for\n",
      "Original word:  3  |  Lemma:  3\n",
      "Original word:  hours  |  Lemma:  hour\n",
      "Original word:  although  |  Lemma:  although\n",
      "Original word:  talking  |  Lemma:  talk\n",
      "Original word:  is  |  Lemma:  be\n",
      "Original word:  n't  |  Lemma:  not\n",
      "Original word:  his  |  Lemma:  his\n",
      "Original word:  thing  |  Lemma:  thing\n"
     ]
    }
   ],
   "source": [
    "nlp = spacy.load(\"en_core_web_md\")\n",
    "\n",
    "doc = nlp(\"Mando talked for 3 hours although talking isn't his thing\")\n",
    "\n",
    "for token in doc:\n",
    "    print(\"Original word: \",token, \" | \", \"Lemma: \",token.lemma_)"
   ]
  },
  {
   "cell_type": "markdown",
   "id": "c16a9051-6b35-42fb-a8e4-6984d0a06fd1",
   "metadata": {},
   "source": [
    "### Customizing Lemmatizer"
   ]
  },
  {
   "cell_type": "code",
   "execution_count": 37,
   "id": "15e0d117-cf0e-4a79-8517-723ada9dc69b",
   "metadata": {},
   "outputs": [
    {
     "data": {
      "text/plain": [
       "['tok2vec', 'tagger', 'parser', 'attribute_ruler', 'lemmatizer', 'ner']"
      ]
     },
     "execution_count": 37,
     "metadata": {},
     "output_type": "execute_result"
    }
   ],
   "source": [
    "nlp.pipe_names"
   ]
  },
  {
   "cell_type": "code",
   "execution_count": 38,
   "id": "53156700-3471-41c4-bd7c-6b22bfd6e59b",
   "metadata": {},
   "outputs": [
    {
     "name": "stdout",
     "output_type": "stream",
     "text": [
      "Bro | Brother\n",
      ", | ,\n",
      "you | you\n",
      "wanna | wanna\n",
      "go | go\n",
      "? | ?\n",
      "Brah | Brother\n",
      ", | ,\n",
      "do | do\n",
      "n't | not\n",
      "say | say\n",
      "no | no\n",
      "! | !\n",
      "I | I\n",
      "am | be\n",
      "exhausted | exhausted\n"
     ]
    }
   ],
   "source": [
    "ar = nlp.get_pipe('attribute_ruler')\n",
    "\n",
    "ar.add([[{\"TEXT\":\"Bro\"}],[{\"TEXT\":\"Brah\"}]],{\"LEMMA\":\"Brother\"})\n",
    "\n",
    "doc = nlp(\"Bro, you wanna go? Brah, don't say no! I am exhausted\")\n",
    "for token in doc:\n",
    "    print(token.text, \"|\", token.lemma_)"
   ]
  },
  {
   "cell_type": "markdown",
   "id": "404bf940-bf4b-4b64-a040-1b2ad9517c91",
   "metadata": {},
   "source": [
    "### Position of Sentence (POS)"
   ]
  },
  {
   "cell_type": "code",
   "execution_count": 75,
   "id": "606592bc-96dd-40d1-af38-70092fa6ce2b",
   "metadata": {},
   "outputs": [],
   "source": [
    "from spacy.attrs import POS"
   ]
  },
  {
   "cell_type": "code",
   "execution_count": 77,
   "id": "046c031d-bd7a-48e4-8632-6b141fd3467f",
   "metadata": {},
   "outputs": [
    {
     "name": "stdout",
     "output_type": "stream",
     "text": [
      " | 11\n"
     ]
    }
   ],
   "source": [
    "doc = nlp(\"Mando talked for 3 hours although talking isn't his thing\")\n",
    "\n",
    "count = doc.count_by(POS)\n",
    "\n",
    "for k, v in count.items():\n",
    "    print(doc.vocab[k].text, \"|\", v)"
   ]
  },
  {
   "cell_type": "code",
   "execution_count": null,
   "id": "3684fad5-322a-4c1c-bb67-aa397e992283",
   "metadata": {},
   "outputs": [],
   "source": []
  }
 ],
 "metadata": {
  "kernelspec": {
   "display_name": "Python 3 (ipykernel)",
   "language": "python",
   "name": "python3"
  },
  "language_info": {
   "codemirror_mode": {
    "name": "ipython",
    "version": 3
   },
   "file_extension": ".py",
   "mimetype": "text/x-python",
   "name": "python",
   "nbconvert_exporter": "python",
   "pygments_lexer": "ipython3",
   "version": "3.12.3"
  }
 },
 "nbformat": 4,
 "nbformat_minor": 5
}
